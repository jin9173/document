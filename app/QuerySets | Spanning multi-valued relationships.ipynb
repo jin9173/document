{
 "cells": [
  {
   "cell_type": "code",
   "execution_count": 33,
   "metadata": {},
   "outputs": [
    {
     "data": {
      "text/plain": [
       "(0, {})"
      ]
     },
     "execution_count": 33,
     "metadata": {},
     "output_type": "execute_result"
    }
   ],
   "source": [
    "Blog.objects.all().delete()\n",
    "Entry.objects.all().delete()\n",
    "Author.objects.all().delete()"
   ]
  },
  {
   "cell_type": "code",
   "execution_count": 34,
   "metadata": {},
   "outputs": [],
   "source": [
    "b1 = Blog.objects.create(name='Blog1')\n",
    "b2 = Blog.objects.create(name='Blog2')\n",
    "b3 = Blog.objects.create(name='Blog3')\n",
    "b4 = Blog.objects.create(name='Blog4')"
   ]
  },
  {
   "cell_type": "code",
   "execution_count": 35,
   "metadata": {},
   "outputs": [],
   "source": [
    "from datetime import date\n",
    "\n",
    "el = Entry.objects.create(\n",
    "    blog=b1,\n",
    "    headline='Lennon',\n",
    "    pub_date=date(2008, 3, 3),\n",
    ")\n",
    "\n",
    "e2 = Entry.objects.create(\n",
    "    blog=b2,\n",
    "    headline='Lennon',\n",
    "    pub_date=date(2020, 3, 3),\n",
    ")\n",
    "\n",
    "e3 = Entry.objects.create(\n",
    "    blog=b2,\n",
    "    headline='WPS',\n",
    "    pub_date=date(2008, 3, 3),\n",
    ")\n",
    "\n",
    "e4 = Entry.objects.create(\n",
    "    blog=b3,\n",
    "    headline='Lennon',\n",
    "    pub_date=date(2020, 6, 6),\n",
    ")\n",
    "\n",
    "e5 = Entry.objects.create(\n",
    "    blog=b4,\n",
    "    headline='WPS',\n",
    "    pub_date=date(2020, 6, 6),\n",
    ")"
   ]
  },
  {
   "cell_type": "code",
   "execution_count": 36,
   "metadata": {},
   "outputs": [
    {
     "data": {
      "text/plain": [
       "<QuerySet [<Blog: Blog1>]>"
      ]
     },
     "execution_count": 36,
     "metadata": {},
     "output_type": "execute_result"
    }
   ],
   "source": [
    "Blog.objects.filter(\n",
    "    entry__headline__contains='Lennon',\n",
    "    entry__pub_date__year=2008,\n",
    ")"
   ]
  },
  {
   "cell_type": "code",
   "execution_count": 37,
   "metadata": {},
   "outputs": [
    {
     "data": {
      "text/plain": [
       "<QuerySet [<Blog: Blog1>, <Blog: Blog2>]>"
      ]
     },
     "execution_count": 37,
     "metadata": {},
     "output_type": "execute_result"
    }
   ],
   "source": [
    "Blog.objects.filter(\n",
    "    entry__headline__contains='Lennon',\n",
    ").filter(\n",
    "    entry__pub_date__year=2008,\n",
    ")"
   ]
  },
  {
   "cell_type": "code",
   "execution_count": 38,
   "metadata": {},
   "outputs": [
    {
     "data": {
      "text/plain": [
       "<QuerySet [<Blog: Blog1>, <Blog: Blog2>, <Blog: Blog3>, <Blog: Blog4>]>"
      ]
     },
     "execution_count": 38,
     "metadata": {},
     "output_type": "execute_result"
    }
   ],
   "source": [
    "Blog.objects.all()"
   ]
  },
  {
   "cell_type": "code",
   "execution_count": 39,
   "metadata": {},
   "outputs": [
    {
     "data": {
      "text/plain": [
       "<QuerySet [<Blog: Blog1>, <Blog: Blog2>, <Blog: Blog3>]>"
      ]
     },
     "execution_count": 39,
     "metadata": {},
     "output_type": "execute_result"
    }
   ],
   "source": [
    "q1 = Blog.objects.filter(entry__headline__contains='Lennon')\n",
    "q1"
   ]
  },
  {
   "cell_type": "code",
   "execution_count": 40,
   "metadata": {},
   "outputs": [
    {
     "data": {
      "text/plain": [
       "<QuerySet [<Blog: Blog1>, <Blog: Blog2>]>"
      ]
     },
     "execution_count": 40,
     "metadata": {},
     "output_type": "execute_result"
    }
   ],
   "source": [
    "q2 = Blog.objects.filter(entry__pub_date__year=2008)\n",
    "q2"
   ]
  }
 ],
 "metadata": {
  "kernelspec": {
   "display_name": "Django Shell-Plus",
   "language": "python",
   "name": "django_extensions"
  },
  "language_info": {
   "codemirror_mode": {
    "name": "ipython",
    "version": 3
   },
   "file_extension": ".py",
   "mimetype": "text/x-python",
   "name": "python",
   "nbconvert_exporter": "python",
   "pygments_lexer": "ipython3",
   "version": "3.7.5"
  }
 },
 "nbformat": 4,
 "nbformat_minor": 2
}
