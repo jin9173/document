{
 "cells": [
  {
   "cell_type": "code",
   "execution_count": 1,
   "metadata": {},
   "outputs": [],
   "source": [
    "su = BaseUser.objects.create(is_superuser=True)"
   ]
  },
  {
   "cell_type": "code",
   "execution_count": 2,
   "metadata": {},
   "outputs": [
    {
     "data": {
      "text/plain": [
       "[<BaseUser: BaseUser object (204)>,\n",
       " <BaseUser: BaseUser object (205)>,\n",
       " <BaseUser: BaseUser object (206)>,\n",
       " <BaseUser: BaseUser object (207)>,\n",
       " <BaseUser: BaseUser object (208)>,\n",
       " <BaseUser: BaseUser object (209)>,\n",
       " <BaseUser: BaseUser object (210)>,\n",
       " <BaseUser: BaseUser object (211)>,\n",
       " <BaseUser: BaseUser object (212)>,\n",
       " <BaseUser: BaseUser object (213)>,\n",
       " <BaseUser: BaseUser object (214)>,\n",
       " <BaseUser: BaseUser object (215)>,\n",
       " <BaseUser: BaseUser object (216)>,\n",
       " <BaseUser: BaseUser object (217)>,\n",
       " <BaseUser: BaseUser object (218)>,\n",
       " <BaseUser: BaseUser object (219)>,\n",
       " <BaseUser: BaseUser object (220)>,\n",
       " <BaseUser: BaseUser object (221)>,\n",
       " <BaseUser: BaseUser object (222)>,\n",
       " <BaseUser: BaseUser object (223)>,\n",
       " <BaseUser: BaseUser object (224)>,\n",
       " <BaseUser: BaseUser object (225)>,\n",
       " <BaseUser: BaseUser object (226)>,\n",
       " <BaseUser: BaseUser object (227)>,\n",
       " <BaseUser: BaseUser object (228)>,\n",
       " <BaseUser: BaseUser object (229)>,\n",
       " <BaseUser: BaseUser object (230)>,\n",
       " <BaseUser: BaseUser object (231)>,\n",
       " <BaseUser: BaseUser object (232)>,\n",
       " <BaseUser: BaseUser object (233)>,\n",
       " <BaseUser: BaseUser object (234)>,\n",
       " <BaseUser: BaseUser object (235)>,\n",
       " <BaseUser: BaseUser object (236)>,\n",
       " <BaseUser: BaseUser object (237)>,\n",
       " <BaseUser: BaseUser object (238)>,\n",
       " <BaseUser: BaseUser object (239)>,\n",
       " <BaseUser: BaseUser object (240)>,\n",
       " <BaseUser: BaseUser object (241)>,\n",
       " <BaseUser: BaseUser object (242)>,\n",
       " <BaseUser: BaseUser object (243)>,\n",
       " <BaseUser: BaseUser object (244)>,\n",
       " <BaseUser: BaseUser object (245)>,\n",
       " <BaseUser: BaseUser object (246)>,\n",
       " <BaseUser: BaseUser object (247)>,\n",
       " <BaseUser: BaseUser object (248)>,\n",
       " <BaseUser: BaseUser object (249)>,\n",
       " <BaseUser: BaseUser object (250)>,\n",
       " <BaseUser: BaseUser object (251)>,\n",
       " <BaseUser: BaseUser object (252)>,\n",
       " <BaseUser: BaseUser object (253)>,\n",
       " <BaseUser: BaseUser object (254)>,\n",
       " <BaseUser: BaseUser object (255)>,\n",
       " <BaseUser: BaseUser object (256)>,\n",
       " <BaseUser: BaseUser object (257)>,\n",
       " <BaseUser: BaseUser object (258)>,\n",
       " <BaseUser: BaseUser object (259)>,\n",
       " <BaseUser: BaseUser object (260)>,\n",
       " <BaseUser: BaseUser object (261)>,\n",
       " <BaseUser: BaseUser object (262)>,\n",
       " <BaseUser: BaseUser object (263)>,\n",
       " <BaseUser: BaseUser object (264)>,\n",
       " <BaseUser: BaseUser object (265)>,\n",
       " <BaseUser: BaseUser object (266)>,\n",
       " <BaseUser: BaseUser object (267)>,\n",
       " <BaseUser: BaseUser object (268)>,\n",
       " <BaseUser: BaseUser object (269)>,\n",
       " <BaseUser: BaseUser object (270)>,\n",
       " <BaseUser: BaseUser object (271)>,\n",
       " <BaseUser: BaseUser object (272)>,\n",
       " <BaseUser: BaseUser object (273)>,\n",
       " <BaseUser: BaseUser object (274)>,\n",
       " <BaseUser: BaseUser object (275)>,\n",
       " <BaseUser: BaseUser object (276)>,\n",
       " <BaseUser: BaseUser object (277)>,\n",
       " <BaseUser: BaseUser object (278)>,\n",
       " <BaseUser: BaseUser object (279)>,\n",
       " <BaseUser: BaseUser object (280)>,\n",
       " <BaseUser: BaseUser object (281)>,\n",
       " <BaseUser: BaseUser object (282)>,\n",
       " <BaseUser: BaseUser object (283)>,\n",
       " <BaseUser: BaseUser object (284)>,\n",
       " <BaseUser: BaseUser object (285)>,\n",
       " <BaseUser: BaseUser object (286)>,\n",
       " <BaseUser: BaseUser object (287)>,\n",
       " <BaseUser: BaseUser object (288)>,\n",
       " <BaseUser: BaseUser object (289)>,\n",
       " <BaseUser: BaseUser object (290)>,\n",
       " <BaseUser: BaseUser object (291)>,\n",
       " <BaseUser: BaseUser object (292)>,\n",
       " <BaseUser: BaseUser object (293)>,\n",
       " <BaseUser: BaseUser object (294)>,\n",
       " <BaseUser: BaseUser object (295)>,\n",
       " <BaseUser: BaseUser object (296)>,\n",
       " <BaseUser: BaseUser object (297)>,\n",
       " <BaseUser: BaseUser object (298)>,\n",
       " <BaseUser: BaseUser object (299)>,\n",
       " <BaseUser: BaseUser object (300)>,\n",
       " <BaseUser: BaseUser object (301)>,\n",
       " <BaseUser: BaseUser object (302)>,\n",
       " <BaseUser: BaseUser object (303)>]"
      ]
     },
     "execution_count": 2,
     "metadata": {},
     "output_type": "execute_result"
    }
   ],
   "source": [
    "[BaseUser.objects.create() for i in range(100)]"
   ]
  },
  {
   "cell_type": "code",
   "execution_count": 3,
   "metadata": {},
   "outputs": [
    {
     "data": {
      "text/plain": [
       "303"
      ]
     },
     "execution_count": 3,
     "metadata": {},
     "output_type": "execute_result"
    }
   ],
   "source": [
    "BaseUser.objects.count()"
   ]
  },
  {
   "cell_type": "code",
   "execution_count": 4,
   "metadata": {},
   "outputs": [
    {
     "data": {
      "text/plain": [
       "<QuerySet [<SuperUser: SuperUser object (1)>, <SuperUser: SuperUser object (102)>, <SuperUser: SuperUser object (203)>]>"
      ]
     },
     "execution_count": 4,
     "metadata": {},
     "output_type": "execute_result"
    }
   ],
   "source": [
    "SuperUser.objects.all()"
   ]
  },
  {
   "cell_type": "code",
   "execution_count": 5,
   "metadata": {},
   "outputs": [
    {
     "data": {
      "text/plain": [
       "<QuerySet [<BaseUser: BaseUser object (1)>, <BaseUser: BaseUser object (2)>, <BaseUser: BaseUser object (3)>, <BaseUser: BaseUser object (4)>, <BaseUser: BaseUser object (5)>, <BaseUser: BaseUser object (6)>, <BaseUser: BaseUser object (7)>, <BaseUser: BaseUser object (8)>, <BaseUser: BaseUser object (9)>, <BaseUser: BaseUser object (10)>, <BaseUser: BaseUser object (11)>, <BaseUser: BaseUser object (12)>, <BaseUser: BaseUser object (13)>, <BaseUser: BaseUser object (14)>, <BaseUser: BaseUser object (15)>, <BaseUser: BaseUser object (16)>, <BaseUser: BaseUser object (17)>, <BaseUser: BaseUser object (18)>, <BaseUser: BaseUser object (19)>, <BaseUser: BaseUser object (20)>, '...(remaining elements truncated)...']>"
      ]
     },
     "execution_count": 5,
     "metadata": {},
     "output_type": "execute_result"
    }
   ],
   "source": [
    "BaseUser.objects.get_queryset()"
   ]
  },
  {
   "cell_type": "code",
   "execution_count": 6,
   "metadata": {},
   "outputs": [
    {
     "data": {
      "text/plain": [
       "<QuerySet [<BaseUser: BaseUser object (1)>, <BaseUser: BaseUser object (102)>, <BaseUser: BaseUser object (203)>]>"
      ]
     },
     "execution_count": 6,
     "metadata": {},
     "output_type": "execute_result"
    }
   ],
   "source": [
    "BaseUser.objects.get_queryset().filter(is_superuser=True)"
   ]
  },
  {
   "cell_type": "code",
   "execution_count": 7,
   "metadata": {},
   "outputs": [
    {
     "data": {
      "text/plain": [
       "<BaseUser: BaseUser object (203)>"
      ]
     },
     "execution_count": 7,
     "metadata": {},
     "output_type": "execute_result"
    }
   ],
   "source": [
    "su"
   ]
  }
 ],
 "metadata": {
  "kernelspec": {
   "display_name": "Django Shell-Plus",
   "language": "python",
   "name": "django_extensions"
  },
  "language_info": {
   "codemirror_mode": {
    "name": "ipython",
    "version": 3
   },
   "file_extension": ".py",
   "mimetype": "text/x-python",
   "name": "python",
   "nbconvert_exporter": "python",
   "pygments_lexer": "ipython3",
   "version": "3.7.5"
  }
 },
 "nbformat": 4,
 "nbformat_minor": 2
}
